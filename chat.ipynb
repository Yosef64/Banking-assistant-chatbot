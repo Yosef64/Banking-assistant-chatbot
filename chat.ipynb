{
 "cells": [
  {
   "cell_type": "code",
   "execution_count": 1,
   "metadata": {},
   "outputs": [
    {
     "data": {
      "text/plain": [
       "'C:\\\\code\\\\accesskey.json'"
      ]
     },
     "execution_count": 1,
     "metadata": {},
     "output_type": "execute_result"
    }
   ],
   "source": [
    "import pandas as pd\n",
    "import io\n",
    "import json\n",
    "import os\n",
    "import requests\n",
    "\n",
    "from google.cloud import storage\n",
    "\n",
    "os.environ['GOOGLE_APPLICATION_CREDENTIALS'] = \"C:\\code\\\\accesskey.json\"\n",
    "os.environ['GOOGLE_APPLICATION_CREDENTIALS']\n"
   ]
  },
  {
   "cell_type": "markdown",
   "metadata": {},
   "source": [
    "<h4 style=\"text-align:center;font-family:Nunito,sans-serif\">Chat With Gemini</h4>"
   ]
  },
  {
   "cell_type": "code",
   "execution_count": 6,
   "metadata": {},
   "outputs": [
    {
     "name": "stdout",
     "output_type": "stream",
     "text": [
      "User:  Hi\n",
      "ChatBot:  Hello! 👋  Please tell me, are you a Bank User or a Bank Officer? \n",
      "\n",
      "User:  Im a bank user\n",
      "ChatBot:  Okay, please provide your bank account number and password. \n",
      "\n",
      "User:  10005226 and 123456\n",
      "ChatBot:  Great! Your account has been verified. How can I assist you today? \n",
      "\n",
      "User:  i wanna my recent application is approve or not\n",
      "ChatBot:  Your recent loan application for a house loan of 1000000 has been approved! 🎉  Congratulations! \n",
      "\n",
      "User:  i wanna know about the eligibily for loan application\n",
      "ChatBot:  To be eligible for a loan application, you need to meet the following general criteria:\n",
      "\n",
      "1. **Lawful Business/Investment Activities:** You must be engaged in legal and creditworthy business or investment activities.\n",
      "2. **Sustainable Income:** You need to have a defined and sustainable source of income, except for condominium loans.\n",
      "3. **Business Credit Requirements:** If you're applying for a business loan, you'll need to provide:\n",
      "    - Renewed trade license for the current fiscal year.\n",
      "    - Commercial registration certificate or investment license and principal registration certificate for new projects.\n",
      "    - Tax identification number (TIN) or tax exemption certificate for all income.\n",
      "    - Tax clearance certificates.\n",
      "4. **Previous Loan Settlement:** You must have fully settled any previous loss loans to the bank.\n",
      "5. **Legal Compliance:** You should not have any record of tax evasion, breach of exchange control regulations, or illegal dealings.\n",
      "6. **Checking Account History:**\n"
     ]
    }
   ],
   "source": [
    "\n",
    "client = storage.Client()\n",
    "bucket_name = 'banking_assistant'\n",
    "\n",
    "bucket = client.get_bucket(bucket_name)\n",
    "blob_name = 'dataset/session.json'\n",
    "blob = bucket.blob(blob_name)\n",
    "session_data = json.loads(blob.download_as_string())\n",
    "session_data[\"1\"] = []\n",
    "blob.upload_from_string(json.dumps(session_data))\n",
    "\n",
    "url = \"https://us-central1-parabolic-hook-419323.cloudfunctions.net/bank_assistant\"\n",
    "headers = {\n",
    "    'Content-Type': 'application/json',\n",
    "}\n",
    "\n",
    "while True:\n",
    "    user_input = input(\"User :\")\n",
    "    if user_input == \"exit\":\n",
    "        break\n",
    "    print(\"User: \",user_input)\n",
    "    params = {'prompt': user_input,\"id\":\"1\"}\n",
    "    response = requests.post(url, json=params,headers=headers)\n",
    "    print(\"ChatBot: \",response.text)\n",
    "\n",
    "response.text\n"
   ]
  },
  {
   "cell_type": "markdown",
   "metadata": {},
   "source": [
    "<h4 style=\"text-align:center;font-weight:bold;font-family:Nunito,sans-sefif\">Test file extraction from google cloud</h4>"
   ]
  },
  {
   "cell_type": "code",
   "execution_count": 6,
   "metadata": {},
   "outputs": [
    {
     "data": {
      "text/html": [
       "<div>\n",
       "<style scoped>\n",
       "    .dataframe tbody tr th:only-of-type {\n",
       "        vertical-align: middle;\n",
       "    }\n",
       "\n",
       "    .dataframe tbody tr th {\n",
       "        vertical-align: top;\n",
       "    }\n",
       "\n",
       "    .dataframe thead th {\n",
       "        text-align: right;\n",
       "    }\n",
       "</style>\n",
       "<table border=\"1\" class=\"dataframe\">\n",
       "  <thead>\n",
       "    <tr style=\"text-align: right;\">\n",
       "      <th></th>\n",
       "      <th>applicant_name</th>\n",
       "      <th>bank_account</th>\n",
       "      <th>loan_type</th>\n",
       "      <th>application_date</th>\n",
       "      <th>application_status</th>\n",
       "      <th>approval_date</th>\n",
       "      <th>loan_amount</th>\n",
       "    </tr>\n",
       "  </thead>\n",
       "  <tbody>\n",
       "    <tr>\n",
       "      <th>0</th>\n",
       "      <td>yoseph alemu</td>\n",
       "      <td>10005226</td>\n",
       "      <td>house</td>\n",
       "      <td>2024-09-13 20:05:36.524152</td>\n",
       "      <td>approved</td>\n",
       "      <td>2024-09-13T20:16:40.113997</td>\n",
       "      <td>1000000.0</td>\n",
       "    </tr>\n",
       "  </tbody>\n",
       "</table>\n",
       "</div>"
      ],
      "text/plain": [
       "  applicant_name  bank_account loan_type            application_date  \\\n",
       "0   yoseph alemu      10005226     house  2024-09-13 20:05:36.524152   \n",
       "\n",
       "  application_status               approval_date  loan_amount  \n",
       "0           approved  2024-09-13T20:16:40.113997    1000000.0  "
      ]
     },
     "execution_count": 6,
     "metadata": {},
     "output_type": "execute_result"
    }
   ],
   "source": [
    "\n",
    "client = storage.Client()\n",
    "\n",
    "bucket_name = \"banking_assistant\"\n",
    "blob_name = \"dataset/loan_applications.csv\"  \n",
    "bucket = client.get_bucket(bucket_name)\n",
    "blob = bucket.blob(blob_name)\n",
    "\n",
    "csv_data = blob.download_as_text()\n",
    "df = pd.read_csv(io.StringIO(csv_data))\n",
    "df\n"
   ]
  }
 ],
 "metadata": {
  "kernelspec": {
   "display_name": "Python 3",
   "language": "python",
   "name": "python3"
  },
  "language_info": {
   "codemirror_mode": {
    "name": "ipython",
    "version": 3
   },
   "file_extension": ".py",
   "mimetype": "text/x-python",
   "name": "python",
   "nbconvert_exporter": "python",
   "pygments_lexer": "ipython3",
   "version": "3.10.10"
  }
 },
 "nbformat": 4,
 "nbformat_minor": 2
}
